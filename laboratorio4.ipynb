{
  "nbformat": 4,
  "nbformat_minor": 0,
  "metadata": {
    "colab": {
      "provenance": []
    },
    "kernelspec": {
      "name": "python3",
      "display_name": "Python 3"
    },
    "language_info": {
      "name": "python"
    }
  },
  "cells": [
    {
      "cell_type": "code",
      "execution_count": 87,
      "metadata": {
        "colab": {
          "base_uri": "https://localhost:8080/"
        },
        "id": "z3IOTm0hfkq-",
        "outputId": "cfd9f040-13ef-4c91-80af-53688684f68a"
      },
      "outputs": [
        {
          "output_type": "stream",
          "name": "stderr",
          "text": [
            "[nltk_data] Downloading collection 'book'\n",
            "[nltk_data]    | \n",
            "[nltk_data]    | Downloading package abc to /root/nltk_data...\n",
            "[nltk_data]    |   Package abc is already up-to-date!\n",
            "[nltk_data]    | Downloading package brown to /root/nltk_data...\n",
            "[nltk_data]    |   Package brown is already up-to-date!\n",
            "[nltk_data]    | Downloading package chat80 to /root/nltk_data...\n",
            "[nltk_data]    |   Package chat80 is already up-to-date!\n",
            "[nltk_data]    | Downloading package cmudict to /root/nltk_data...\n",
            "[nltk_data]    |   Package cmudict is already up-to-date!\n",
            "[nltk_data]    | Downloading package conll2000 to /root/nltk_data...\n",
            "[nltk_data]    |   Package conll2000 is already up-to-date!\n",
            "[nltk_data]    | Downloading package conll2002 to /root/nltk_data...\n",
            "[nltk_data]    |   Package conll2002 is already up-to-date!\n",
            "[nltk_data]    | Downloading package dependency_treebank to\n",
            "[nltk_data]    |     /root/nltk_data...\n",
            "[nltk_data]    |   Package dependency_treebank is already up-to-date!\n",
            "[nltk_data]    | Downloading package genesis to /root/nltk_data...\n",
            "[nltk_data]    |   Package genesis is already up-to-date!\n",
            "[nltk_data]    | Downloading package gutenberg to /root/nltk_data...\n",
            "[nltk_data]    |   Package gutenberg is already up-to-date!\n",
            "[nltk_data]    | Downloading package ieer to /root/nltk_data...\n",
            "[nltk_data]    |   Package ieer is already up-to-date!\n",
            "[nltk_data]    | Downloading package inaugural to /root/nltk_data...\n",
            "[nltk_data]    |   Package inaugural is already up-to-date!\n",
            "[nltk_data]    | Downloading package movie_reviews to\n",
            "[nltk_data]    |     /root/nltk_data...\n",
            "[nltk_data]    |   Package movie_reviews is already up-to-date!\n",
            "[nltk_data]    | Downloading package nps_chat to /root/nltk_data...\n",
            "[nltk_data]    |   Package nps_chat is already up-to-date!\n",
            "[nltk_data]    | Downloading package names to /root/nltk_data...\n",
            "[nltk_data]    |   Package names is already up-to-date!\n",
            "[nltk_data]    | Downloading package ppattach to /root/nltk_data...\n",
            "[nltk_data]    |   Package ppattach is already up-to-date!\n",
            "[nltk_data]    | Downloading package reuters to /root/nltk_data...\n",
            "[nltk_data]    |   Package reuters is already up-to-date!\n",
            "[nltk_data]    | Downloading package senseval to /root/nltk_data...\n",
            "[nltk_data]    |   Package senseval is already up-to-date!\n",
            "[nltk_data]    | Downloading package state_union to /root/nltk_data...\n",
            "[nltk_data]    |   Package state_union is already up-to-date!\n",
            "[nltk_data]    | Downloading package stopwords to /root/nltk_data...\n",
            "[nltk_data]    |   Package stopwords is already up-to-date!\n",
            "[nltk_data]    | Downloading package swadesh to /root/nltk_data...\n",
            "[nltk_data]    |   Package swadesh is already up-to-date!\n",
            "[nltk_data]    | Downloading package timit to /root/nltk_data...\n",
            "[nltk_data]    |   Package timit is already up-to-date!\n",
            "[nltk_data]    | Downloading package treebank to /root/nltk_data...\n",
            "[nltk_data]    |   Package treebank is already up-to-date!\n",
            "[nltk_data]    | Downloading package toolbox to /root/nltk_data...\n",
            "[nltk_data]    |   Package toolbox is already up-to-date!\n",
            "[nltk_data]    | Downloading package udhr to /root/nltk_data...\n",
            "[nltk_data]    |   Package udhr is already up-to-date!\n",
            "[nltk_data]    | Downloading package udhr2 to /root/nltk_data...\n",
            "[nltk_data]    |   Package udhr2 is already up-to-date!\n",
            "[nltk_data]    | Downloading package unicode_samples to\n",
            "[nltk_data]    |     /root/nltk_data...\n",
            "[nltk_data]    |   Package unicode_samples is already up-to-date!\n",
            "[nltk_data]    | Downloading package webtext to /root/nltk_data...\n",
            "[nltk_data]    |   Package webtext is already up-to-date!\n",
            "[nltk_data]    | Downloading package wordnet to /root/nltk_data...\n",
            "[nltk_data]    |   Package wordnet is already up-to-date!\n",
            "[nltk_data]    | Downloading package wordnet_ic to /root/nltk_data...\n",
            "[nltk_data]    |   Package wordnet_ic is already up-to-date!\n",
            "[nltk_data]    | Downloading package words to /root/nltk_data...\n",
            "[nltk_data]    |   Package words is already up-to-date!\n",
            "[nltk_data]    | Downloading package maxent_treebank_pos_tagger to\n",
            "[nltk_data]    |     /root/nltk_data...\n",
            "[nltk_data]    |   Package maxent_treebank_pos_tagger is already up-\n",
            "[nltk_data]    |       to-date!\n",
            "[nltk_data]    | Downloading package maxent_ne_chunker to\n",
            "[nltk_data]    |     /root/nltk_data...\n",
            "[nltk_data]    |   Package maxent_ne_chunker is already up-to-date!\n",
            "[nltk_data]    | Downloading package universal_tagset to\n",
            "[nltk_data]    |     /root/nltk_data...\n",
            "[nltk_data]    |   Package universal_tagset is already up-to-date!\n",
            "[nltk_data]    | Downloading package punkt to /root/nltk_data...\n",
            "[nltk_data]    |   Package punkt is already up-to-date!\n",
            "[nltk_data]    | Downloading package book_grammars to\n",
            "[nltk_data]    |     /root/nltk_data...\n",
            "[nltk_data]    |   Package book_grammars is already up-to-date!\n",
            "[nltk_data]    | Downloading package city_database to\n",
            "[nltk_data]    |     /root/nltk_data...\n",
            "[nltk_data]    |   Package city_database is already up-to-date!\n",
            "[nltk_data]    | Downloading package tagsets to /root/nltk_data...\n",
            "[nltk_data]    |   Package tagsets is already up-to-date!\n",
            "[nltk_data]    | Downloading package panlex_swadesh to\n",
            "[nltk_data]    |     /root/nltk_data...\n",
            "[nltk_data]    |   Package panlex_swadesh is already up-to-date!\n",
            "[nltk_data]    | Downloading package averaged_perceptron_tagger to\n",
            "[nltk_data]    |     /root/nltk_data...\n",
            "[nltk_data]    |   Package averaged_perceptron_tagger is already up-\n",
            "[nltk_data]    |       to-date!\n",
            "[nltk_data]    | \n",
            "[nltk_data]  Done downloading collection book\n"
          ]
        },
        {
          "output_type": "execute_result",
          "data": {
            "text/plain": [
              "True"
            ]
          },
          "metadata": {},
          "execution_count": 87
        }
      ],
      "source": [
        "import\tnltk\n",
        "nltk.download(\"book\")"
      ]
    },
    {
      "cell_type": "code",
      "source": [
        "from\tnltk.book\timport *\n",
        "from\tnltk.corpus\timport\twordnet\tas\twn\n",
        "wn.synsets(\"dog\")"
      ],
      "metadata": {
        "colab": {
          "base_uri": "https://localhost:8080/"
        },
        "id": "_xtTk0V6f1-y",
        "outputId": "f45222c3-539b-4f7c-fb8e-58913bd10ab5"
      },
      "execution_count": 4,
      "outputs": [
        {
          "output_type": "stream",
          "name": "stdout",
          "text": [
            "*** Introductory Examples for the NLTK Book ***\n",
            "Loading text1, ..., text9 and sent1, ..., sent9\n",
            "Type the name of the text or sentence to view it.\n",
            "Type: 'texts()' or 'sents()' to list the materials.\n",
            "text1: Moby Dick by Herman Melville 1851\n",
            "text2: Sense and Sensibility by Jane Austen 1811\n",
            "text3: The Book of Genesis\n",
            "text4: Inaugural Address Corpus\n",
            "text5: Chat Corpus\n",
            "text6: Monty Python and the Holy Grail\n",
            "text7: Wall Street Journal\n",
            "text8: Personals Corpus\n",
            "text9: The Man Who Was Thursday by G . K . Chesterton 1908\n"
          ]
        },
        {
          "output_type": "execute_result",
          "data": {
            "text/plain": [
              "[Synset('dog.n.01'),\n",
              " Synset('frump.n.01'),\n",
              " Synset('dog.n.03'),\n",
              " Synset('cad.n.01'),\n",
              " Synset('frank.n.02'),\n",
              " Synset('pawl.n.01'),\n",
              " Synset('andiron.n.01'),\n",
              " Synset('chase.v.01')]"
            ]
          },
          "metadata": {},
          "execution_count": 4
        }
      ]
    },
    {
      "cell_type": "code",
      "source": [
        "wn.synsets(\"dog\",\tpos=wn.VERB)"
      ],
      "metadata": {
        "colab": {
          "base_uri": "https://localhost:8080/"
        },
        "id": "N6Lbn5J5gX3z",
        "outputId": "26a155b7-4cb0-40b0-cb75-075c88bef178"
      },
      "execution_count": 8,
      "outputs": [
        {
          "output_type": "execute_result",
          "data": {
            "text/plain": [
              "[Synset('chase.v.01')]"
            ]
          },
          "metadata": {},
          "execution_count": 8
        }
      ]
    },
    {
      "cell_type": "code",
      "source": [
        "wn.synset(\"dog.n.01\")"
      ],
      "metadata": {
        "colab": {
          "base_uri": "https://localhost:8080/"
        },
        "id": "pfVKgNjdgsRB",
        "outputId": "1e937fdb-81d3-4a2b-bb94-a9e18e10222a"
      },
      "execution_count": 10,
      "outputs": [
        {
          "output_type": "execute_result",
          "data": {
            "text/plain": [
              "Synset('dog.n.01')"
            ]
          },
          "metadata": {},
          "execution_count": 10
        }
      ]
    },
    {
      "cell_type": "code",
      "source": [
        "wn.synset(\"dog.n.02\")"
      ],
      "metadata": {
        "colab": {
          "base_uri": "https://localhost:8080/"
        },
        "id": "mCyiqSnTgzLY",
        "outputId": "84f65400-5559-4713-8eed-0ae349d0d897"
      },
      "execution_count": 11,
      "outputs": [
        {
          "output_type": "execute_result",
          "data": {
            "text/plain": [
              "Synset('frump.n.01')"
            ]
          },
          "metadata": {},
          "execution_count": 11
        }
      ]
    },
    {
      "cell_type": "code",
      "source": [
        "wn.synset(\"frump.n.01\")"
      ],
      "metadata": {
        "colab": {
          "base_uri": "https://localhost:8080/"
        },
        "id": "8H1tQVAug0fh",
        "outputId": "95a7b5e5-b58e-4915-ef76-abe96cbd9dea"
      },
      "execution_count": 12,
      "outputs": [
        {
          "output_type": "execute_result",
          "data": {
            "text/plain": [
              "Synset('frump.n.01')"
            ]
          },
          "metadata": {},
          "execution_count": 12
        }
      ]
    },
    {
      "cell_type": "code",
      "source": [
        "wn.synset(\"dog.n.01\").definition()"
      ],
      "metadata": {
        "colab": {
          "base_uri": "https://localhost:8080/",
          "height": 35
        },
        "id": "RYniancug-WJ",
        "outputId": "bdcf419c-b451-4712-b360-e1a50e6559dc"
      },
      "execution_count": 14,
      "outputs": [
        {
          "output_type": "execute_result",
          "data": {
            "text/plain": [
              "'a member of the genus Canis (probably descended from the common wolf) that has been domesticated by man since prehistoric times; occurs in many breeds'"
            ],
            "application/vnd.google.colaboratory.intrinsic+json": {
              "type": "string"
            }
          },
          "metadata": {},
          "execution_count": 14
        }
      ]
    },
    {
      "cell_type": "code",
      "source": [
        "wn.synset(\"dog.n.02\").definition()"
      ],
      "metadata": {
        "colab": {
          "base_uri": "https://localhost:8080/",
          "height": 35
        },
        "id": "C4YFIuu_hE5p",
        "outputId": "d2eca774-79d2-4600-9ba4-7b6e6dd74369"
      },
      "execution_count": 15,
      "outputs": [
        {
          "output_type": "execute_result",
          "data": {
            "text/plain": [
              "'a dull unattractive unpleasant girl or woman'"
            ],
            "application/vnd.google.colaboratory.intrinsic+json": {
              "type": "string"
            }
          },
          "metadata": {},
          "execution_count": 15
        }
      ]
    },
    {
      "cell_type": "code",
      "source": [
        "wn.synset(\"dog.n.01\").lemmas()"
      ],
      "metadata": {
        "colab": {
          "base_uri": "https://localhost:8080/"
        },
        "id": "Qqrv3aykhKLB",
        "outputId": "3d93aa2b-c341-4acc-839b-ae28b86941dd"
      },
      "execution_count": 16,
      "outputs": [
        {
          "output_type": "execute_result",
          "data": {
            "text/plain": [
              "[Lemma('dog.n.01.dog'),\n",
              " Lemma('dog.n.01.domestic_dog'),\n",
              " Lemma('dog.n.01.Canis_familiaris')]"
            ]
          },
          "metadata": {},
          "execution_count": 16
        }
      ]
    },
    {
      "cell_type": "code",
      "source": [
        "# sinonimos del segundo sentido\n",
        "wn.synset(\"dog.n.02\").lemmas()"
      ],
      "metadata": {
        "colab": {
          "base_uri": "https://localhost:8080/"
        },
        "id": "lZUuoGIWhTnx",
        "outputId": "3ba8d41b-147d-4a19-af3d-16a5a1ceabc8"
      },
      "execution_count": 17,
      "outputs": [
        {
          "output_type": "execute_result",
          "data": {
            "text/plain": [
              "[Lemma('frump.n.01.frump'), Lemma('frump.n.01.dog')]"
            ]
          },
          "metadata": {},
          "execution_count": 17
        }
      ]
    },
    {
      "cell_type": "code",
      "source": [
        "wn.synset('dog.n.01')"
      ],
      "metadata": {
        "colab": {
          "base_uri": "https://localhost:8080/"
        },
        "id": "l4bWMk9Nhlvx",
        "outputId": "44962b93-c0c6-4aae-e02c-168ce435df46"
      },
      "execution_count": 18,
      "outputs": [
        {
          "output_type": "execute_result",
          "data": {
            "text/plain": [
              "Synset('dog.n.01')"
            ]
          },
          "metadata": {},
          "execution_count": 18
        }
      ]
    },
    {
      "cell_type": "code",
      "source": [
        "print(wn.synset('dog.n.01').definition())"
      ],
      "metadata": {
        "colab": {
          "base_uri": "https://localhost:8080/"
        },
        "id": "XZ33RWSwhuf5",
        "outputId": "46d1b09a-18d7-46b6-d8d7-0d8c084a0aa8"
      },
      "execution_count": 23,
      "outputs": [
        {
          "output_type": "stream",
          "name": "stdout",
          "text": [
            "a member of the genus Canis (probably descended from the common wolf) that has been domesticated by man since prehistoric times; occurs in many breeds\n"
          ]
        }
      ]
    },
    {
      "cell_type": "code",
      "source": [
        "len(wn.synset('dog.n.01').examples())"
      ],
      "metadata": {
        "colab": {
          "base_uri": "https://localhost:8080/"
        },
        "id": "hGcKpKl2iAA5",
        "outputId": "cf1984e2-ed87-4f63-9775-d97a480c6f96"
      },
      "execution_count": 24,
      "outputs": [
        {
          "output_type": "execute_result",
          "data": {
            "text/plain": [
              "1"
            ]
          },
          "metadata": {},
          "execution_count": 24
        }
      ]
    },
    {
      "cell_type": "code",
      "source": [
        "print(wn.synset('dog.n.01').examples()[0])"
      ],
      "metadata": {
        "colab": {
          "base_uri": "https://localhost:8080/"
        },
        "id": "GRGX7q6BiBPp",
        "outputId": "e84b2a7a-2b40-4cdf-9d00-ceffc19231cf"
      },
      "execution_count": 25,
      "outputs": [
        {
          "output_type": "stream",
          "name": "stdout",
          "text": [
            "the dog barked all night\n"
          ]
        }
      ]
    },
    {
      "cell_type": "code",
      "source": [
        "wn.synset('dog.n.01').lemmas()"
      ],
      "metadata": {
        "colab": {
          "base_uri": "https://localhost:8080/"
        },
        "id": "hGBO4vJ7iCzp",
        "outputId": "ef23960f-c50e-4cf5-dd2f-f97a852a8436"
      },
      "execution_count": 26,
      "outputs": [
        {
          "output_type": "execute_result",
          "data": {
            "text/plain": [
              "[Lemma('dog.n.01.dog'),\n",
              " Lemma('dog.n.01.domestic_dog'),\n",
              " Lemma('dog.n.01.Canis_familiaris')]"
            ]
          },
          "metadata": {},
          "execution_count": 26
        }
      ]
    },
    {
      "cell_type": "code",
      "source": [
        "[str(lemma.name()) for lemma in wn.synset('dog.n.01').lemmas()]"
      ],
      "metadata": {
        "colab": {
          "base_uri": "https://localhost:8080/"
        },
        "id": "BrybyINxiEbJ",
        "outputId": "d7d79614-806b-49a2-d619-7dbbd2461a61"
      },
      "execution_count": 27,
      "outputs": [
        {
          "output_type": "execute_result",
          "data": {
            "text/plain": [
              "['dog', 'domestic_dog', 'Canis_familiaris']"
            ]
          },
          "metadata": {},
          "execution_count": 27
        }
      ]
    },
    {
      "cell_type": "code",
      "source": [
        "dog\t=\twn.synset(\"dog.n.01\")\n",
        "dog.hypernyms()"
      ],
      "metadata": {
        "colab": {
          "base_uri": "https://localhost:8080/"
        },
        "id": "8ds8GEp9iHlI",
        "outputId": "62e649fc-e9e5-4d4a-d505-c86755fb19a3"
      },
      "execution_count": 37,
      "outputs": [
        {
          "output_type": "execute_result",
          "data": {
            "text/plain": [
              "[Synset('canine.n.02'), Synset('domestic_animal.n.01')]"
            ]
          },
          "metadata": {},
          "execution_count": 37
        }
      ]
    },
    {
      "cell_type": "code",
      "source": [
        "dog.hyponyms()"
      ],
      "metadata": {
        "colab": {
          "base_uri": "https://localhost:8080/"
        },
        "id": "MOuadI7ViQv5",
        "outputId": "bb5746ff-94e0-4516-f588-43756ba48208"
      },
      "execution_count": 32,
      "outputs": [
        {
          "output_type": "execute_result",
          "data": {
            "text/plain": [
              "[Synset('basenji.n.01'),\n",
              " Synset('corgi.n.01'),\n",
              " Synset('cur.n.01'),\n",
              " Synset('dalmatian.n.02'),\n",
              " Synset('great_pyrenees.n.01'),\n",
              " Synset('griffon.n.02'),\n",
              " Synset('hunting_dog.n.01'),\n",
              " Synset('lapdog.n.01'),\n",
              " Synset('leonberg.n.01'),\n",
              " Synset('mexican_hairless.n.01'),\n",
              " Synset('newfoundland.n.01'),\n",
              " Synset('pooch.n.01'),\n",
              " Synset('poodle.n.01'),\n",
              " Synset('pug.n.01'),\n",
              " Synset('puppy.n.01'),\n",
              " Synset('spitz.n.01'),\n",
              " Synset('toy_dog.n.01'),\n",
              " Synset('working_dog.n.01')]"
            ]
          },
          "metadata": {},
          "execution_count": 32
        }
      ]
    },
    {
      "cell_type": "code",
      "source": [
        "good\t=\twn.synset(\"good.a.01\")\n",
        "good.lemmas()"
      ],
      "metadata": {
        "colab": {
          "base_uri": "https://localhost:8080/"
        },
        "id": "i1BjXj00iXuJ",
        "outputId": "c2dc09e3-1897-4965-ad19-aaebb54eb169"
      },
      "execution_count": 33,
      "outputs": [
        {
          "output_type": "execute_result",
          "data": {
            "text/plain": [
              "[Lemma('good.a.01.good')]"
            ]
          },
          "metadata": {},
          "execution_count": 33
        }
      ]
    },
    {
      "cell_type": "code",
      "source": [
        "g0\t=\tgood.lemmas()[0]\n",
        "g0.antonyms()"
      ],
      "metadata": {
        "colab": {
          "base_uri": "https://localhost:8080/"
        },
        "id": "goKgey5SinUh",
        "outputId": "ad87dc9e-980b-4681-99ac-133a9b2183eb"
      },
      "execution_count": 35,
      "outputs": [
        {
          "output_type": "execute_result",
          "data": {
            "text/plain": [
              "[Lemma('bad.a.01.bad')]"
            ]
          },
          "metadata": {},
          "execution_count": 35
        }
      ]
    },
    {
      "cell_type": "code",
      "source": [
        "dog.part_meronyms()"
      ],
      "metadata": {
        "colab": {
          "base_uri": "https://localhost:8080/"
        },
        "id": "8ynZbY1jixQB",
        "outputId": "baf35896-9f6c-4eff-9027-874cd1da705b"
      },
      "execution_count": 40,
      "outputs": [
        {
          "output_type": "execute_result",
          "data": {
            "text/plain": [
              "[Synset('flag.n.07')]"
            ]
          },
          "metadata": {},
          "execution_count": 40
        }
      ]
    },
    {
      "cell_type": "code",
      "source": [
        "dog.member_meronyms()"
      ],
      "metadata": {
        "colab": {
          "base_uri": "https://localhost:8080/"
        },
        "id": "fCh1Zf1bjIpR",
        "outputId": "68871daf-f943-4101-a52a-3fec83c123f2"
      },
      "execution_count": 41,
      "outputs": [
        {
          "output_type": "execute_result",
          "data": {
            "text/plain": [
              "[]"
            ]
          },
          "metadata": {},
          "execution_count": 41
        }
      ]
    },
    {
      "cell_type": "code",
      "source": [
        "dog.part_holonyms()"
      ],
      "metadata": {
        "colab": {
          "base_uri": "https://localhost:8080/"
        },
        "id": "A_4Ve0fqjLKB",
        "outputId": "64597a20-80f9-497a-eda6-5dfb2b4fcd8c"
      },
      "execution_count": 42,
      "outputs": [
        {
          "output_type": "execute_result",
          "data": {
            "text/plain": [
              "[]"
            ]
          },
          "metadata": {},
          "execution_count": 42
        }
      ]
    },
    {
      "cell_type": "code",
      "source": [
        "dog.member_holonyms()"
      ],
      "metadata": {
        "colab": {
          "base_uri": "https://localhost:8080/"
        },
        "id": "cV2CoAV1jPap",
        "outputId": "92994dc4-7091-4339-f54b-fc62b7610c13"
      },
      "execution_count": 43,
      "outputs": [
        {
          "output_type": "execute_result",
          "data": {
            "text/plain": [
              "[Synset('canis.n.01'), Synset('pack.n.06')]"
            ]
          },
          "metadata": {},
          "execution_count": 43
        }
      ]
    },
    {
      "cell_type": "code",
      "source": [
        "#definiciones\n",
        "print(wn.synset('flag.n.07').definition()) #cola del perro\n",
        "print(wn.synset('canis.n.01').definition()) #tipo de animal al que pertenece el perro\n",
        "print(wn.synset('pack.n.06').definition()) #el perro es un animal de caza"
      ],
      "metadata": {
        "colab": {
          "base_uri": "https://localhost:8080/"
        },
        "id": "TBurqXhDjl7P",
        "outputId": "2cd2670a-0392-4170-c262-b4ba053c9b54"
      },
      "execution_count": 44,
      "outputs": [
        {
          "output_type": "stream",
          "name": "stdout",
          "text": [
            "a conspicuously marked or shaped tail\n",
            "type genus of the Canidae: domestic and wild dogs; wolves; jackals\n",
            "a group of hunting animals\n"
          ]
        }
      ]
    },
    {
      "cell_type": "code",
      "source": [
        "#sentidos bank\n",
        "wn.synsets(\"bank\") #14 sentidos 8 noun y 6 verb"
      ],
      "metadata": {
        "colab": {
          "base_uri": "https://localhost:8080/"
        },
        "id": "J0XZD4XrjmAp",
        "outputId": "1d22a8f0-546f-4c53-ca52-adc83cec4a47"
      },
      "execution_count": 55,
      "outputs": [
        {
          "output_type": "execute_result",
          "data": {
            "text/plain": [
              "[Synset('bank.n.01'),\n",
              " Synset('depository_financial_institution.n.01'),\n",
              " Synset('bank.n.03'),\n",
              " Synset('bank.n.04'),\n",
              " Synset('bank.n.05'),\n",
              " Synset('bank.n.06'),\n",
              " Synset('bank.n.07'),\n",
              " Synset('savings_bank.n.02'),\n",
              " Synset('bank.n.09'),\n",
              " Synset('bank.n.10'),\n",
              " Synset('bank.v.01'),\n",
              " Synset('bank.v.02'),\n",
              " Synset('bank.v.03'),\n",
              " Synset('bank.v.04'),\n",
              " Synset('bank.v.05'),\n",
              " Synset('deposit.v.02'),\n",
              " Synset('bank.v.07'),\n",
              " Synset('trust.v.01')]"
            ]
          },
          "metadata": {},
          "execution_count": 55
        }
      ]
    },
    {
      "cell_type": "code",
      "source": [
        "from\tnltk.wsd\timport\tlesk\n",
        "from\tnltk\timport\tword_tokenize"
      ],
      "metadata": {
        "id": "iAdj-HJ4mWRB"
      },
      "execution_count": 47,
      "outputs": []
    },
    {
      "cell_type": "code",
      "source": [
        "#lesk\n",
        "texto = \"The\tbank\tcan\tguarantee\tdeposits\twill\teventually\tcover\tfuture\ttuition\tcosts\tbecause\tit\tinvests\tin adjustable- rate\tmortgage\tsecurities.\"\n",
        "S_tok\t=\tword_tokenize(texto)\n",
        "print(lesk(S_tok, 'bank', 'n').definition())\n",
        "lesk(S_tok, 'bank', 'n')"
      ],
      "metadata": {
        "colab": {
          "base_uri": "https://localhost:8080/"
        },
        "id": "cQxRE3P0mYIw",
        "outputId": "99502ced-a893-4aca-839b-2ada44ec696c"
      },
      "execution_count": 61,
      "outputs": [
        {
          "output_type": "stream",
          "name": "stdout",
          "text": [
            "a supply or stock held in reserve for future use (especially in emergencies)\n"
          ]
        },
        {
          "output_type": "execute_result",
          "data": {
            "text/plain": [
              "Synset('bank.n.05')"
            ]
          },
          "metadata": {},
          "execution_count": 61
        }
      ]
    },
    {
      "cell_type": "code",
      "source": [
        "l\t=\tword_tokenize((wn.synset(\"bank.n.05\").definition()))\n",
        "m\t=\tword_tokenize((wn.synset(\"bank.n.02\").definition()))\n",
        "k\t=\tset(S_tok)"
      ],
      "metadata": {
        "colab": {
          "base_uri": "https://localhost:8080/"
        },
        "id": "4DY24Ny7oKqJ",
        "outputId": "a9b4f62d-186e-4230-9689-2efcdabc30c7"
      },
      "execution_count": 63,
      "outputs": [
        {
          "output_type": "execute_result",
          "data": {
            "text/plain": [
              "{'future', 'in'}"
            ]
          },
          "metadata": {},
          "execution_count": 63
        }
      ]
    },
    {
      "cell_type": "code",
      "source": [
        "k.intersection(l)"
      ],
      "metadata": {
        "colab": {
          "base_uri": "https://localhost:8080/"
        },
        "id": "NewEzIU3obFo",
        "outputId": "249e6171-ebab-4418-8e60-9ece6cbb0048"
      },
      "execution_count": 64,
      "outputs": [
        {
          "output_type": "execute_result",
          "data": {
            "text/plain": [
              "{'future', 'in'}"
            ]
          },
          "metadata": {},
          "execution_count": 64
        }
      ]
    },
    {
      "cell_type": "code",
      "source": [
        "k.intersection(m)"
      ],
      "metadata": {
        "colab": {
          "base_uri": "https://localhost:8080/"
        },
        "id": "_l0X9zAtoc8J",
        "outputId": "33da1aeb-e888-492d-f641-42197a8b8a2e"
      },
      "execution_count": 65,
      "outputs": [
        {
          "output_type": "execute_result",
          "data": {
            "text/plain": [
              "{'deposits'}"
            ]
          },
          "metadata": {},
          "execution_count": 65
        }
      ]
    },
    {
      "cell_type": "code",
      "source": [
        "#sentido correcto ejemplos\n",
        "txt_tok\t=\tword_tokenize(\"I\twent\tto\tthe\tbank\tto\tdeposit\tsome\tmoney.\")\n",
        "print(lesk(txt_tok, 'bank', 'n').definition())\n",
        "lesk(txt_tok, 'bank', 'n')"
      ],
      "metadata": {
        "colab": {
          "base_uri": "https://localhost:8080/"
        },
        "id": "AbcScoEPot34",
        "outputId": "892c3ec6-8362-4bff-9740-7db0b284e03b"
      },
      "execution_count": 70,
      "outputs": [
        {
          "output_type": "stream",
          "name": "stdout",
          "text": [
            "a container (usually with a slot in the top) for keeping money at home\n"
          ]
        },
        {
          "output_type": "execute_result",
          "data": {
            "text/plain": [
              "Synset('savings_bank.n.02')"
            ]
          },
          "metadata": {},
          "execution_count": 70
        }
      ]
    },
    {
      "cell_type": "code",
      "source": [
        "txt_tok\t=\tword_tokenize(\"She\tcreated\ta\tbig\tmess\tof\tthe\tbirthday\tcake.\")\n",
        "print(lesk(txt_tok, 'birthday', 'n').definition())\n",
        "lesk(txt_tok, 'birthday', 'n')"
      ],
      "metadata": {
        "colab": {
          "base_uri": "https://localhost:8080/"
        },
        "id": "PR--nXEDpAFQ",
        "outputId": "bb724b1c-be92-4c26-f3a0-267b8fffd280"
      },
      "execution_count": 76,
      "outputs": [
        {
          "output_type": "stream",
          "name": "stdout",
          "text": [
            "an anniversary of the day on which a person was born (or the celebration of it)\n"
          ]
        },
        {
          "output_type": "execute_result",
          "data": {
            "text/plain": [
              "Synset('birthday.n.01')"
            ]
          },
          "metadata": {},
          "execution_count": 76
        }
      ]
    },
    {
      "cell_type": "code",
      "source": [
        "txt_tok\t=\tword_tokenize(\"In\tthe\tinterest\tof\tyour\tsafety,\tplease\twear\tyour\tseatbelt.\t\")\n",
        "print(lesk(txt_tok, 'wear', 'v').definition())\n",
        "lesk(txt_tok, 'wear', 'v')"
      ],
      "metadata": {
        "colab": {
          "base_uri": "https://localhost:8080/"
        },
        "id": "cnlo13AmpAMo",
        "outputId": "c56cab01-1976-48f9-a218-f0e1dec538a2"
      },
      "execution_count": 81,
      "outputs": [
        {
          "output_type": "stream",
          "name": "stdout",
          "text": [
            "have in one's aspect; wear an expression of one's attitude or personality\n"
          ]
        },
        {
          "output_type": "execute_result",
          "data": {
            "text/plain": [
              "Synset('wear.v.03')"
            ]
          },
          "metadata": {},
          "execution_count": 81
        }
      ]
    },
    {
      "cell_type": "code",
      "source": [
        "txt_tok\t=\tword_tokenize(\"I\tdrank\tsome\tice\tcold\twater.\t\")\n",
        "print(lesk(txt_tok, 'cold', 'a').definition())\n",
        "lesk(txt_tok, 'cold', 'a')"
      ],
      "metadata": {
        "colab": {
          "base_uri": "https://localhost:8080/"
        },
        "id": "mtbS1SD5pARQ",
        "outputId": "4251e9d8-32c5-4955-9134-15c641ebcac8"
      },
      "execution_count": 78,
      "outputs": [
        {
          "output_type": "stream",
          "name": "stdout",
          "text": [
            "having a low or inadequate temperature or feeling a sensation of coldness or having been made cold by e.g. ice or refrigeration\n"
          ]
        },
        {
          "output_type": "execute_result",
          "data": {
            "text/plain": [
              "Synset('cold.a.01')"
            ]
          },
          "metadata": {},
          "execution_count": 78
        }
      ]
    },
    {
      "cell_type": "code",
      "source": [
        "from\tnltk.stem\timport\tWordNetLemmatizer\n",
        "wnLemmatizer\t=\tWordNetLemmatizer()\n",
        "wnLemmatizer.lemmatize(\"dogs\",\t\"n\")"
      ],
      "metadata": {
        "colab": {
          "base_uri": "https://localhost:8080/",
          "height": 35
        },
        "id": "BD9kRSxxqAEI",
        "outputId": "ab80b158-286e-4abc-9f4b-df1be3196eb9"
      },
      "execution_count": 82,
      "outputs": [
        {
          "output_type": "execute_result",
          "data": {
            "text/plain": [
              "'dog'"
            ],
            "application/vnd.google.colaboratory.intrinsic+json": {
              "type": "string"
            }
          },
          "metadata": {},
          "execution_count": 82
        }
      ]
    },
    {
      "cell_type": "code",
      "source": [
        "wnLemmatizer.lemmatize(\"walking\",\t\"v\")"
      ],
      "metadata": {
        "colab": {
          "base_uri": "https://localhost:8080/",
          "height": 35
        },
        "id": "o6A3ahsQqMmH",
        "outputId": "a47ccf2b-2af8-454b-fbaa-0ba2cfec480c"
      },
      "execution_count": 84,
      "outputs": [
        {
          "output_type": "execute_result",
          "data": {
            "text/plain": [
              "'walk'"
            ],
            "application/vnd.google.colaboratory.intrinsic+json": {
              "type": "string"
            }
          },
          "metadata": {},
          "execution_count": 84
        }
      ]
    },
    {
      "cell_type": "code",
      "source": [
        "wnLemmatizer.lemmatize(\"dogs\")"
      ],
      "metadata": {
        "colab": {
          "base_uri": "https://localhost:8080/",
          "height": 35
        },
        "id": "XLpqSZ16qQvv",
        "outputId": "0ce4b289-f2f2-4c8b-d8e5-268de99bc05f"
      },
      "execution_count": 85,
      "outputs": [
        {
          "output_type": "execute_result",
          "data": {
            "text/plain": [
              "'dog'"
            ],
            "application/vnd.google.colaboratory.intrinsic+json": {
              "type": "string"
            }
          },
          "metadata": {},
          "execution_count": 85
        }
      ]
    },
    {
      "cell_type": "code",
      "source": [
        "#coincidencia noun, verb, adjetive\n",
        "def coincidencias(txt1, txt2):\n",
        "    txt1_tok = nltk.pos_tag(word_tokenize(txt1))\n",
        "    txt2_tok = nltk.pos_tag(word_tokenize(txt2))\n",
        "    txt1_list = set()\n",
        "    txt2_list = set()\n",
        "\n",
        "    for (palabra,tipo) in txt1_tok:\n",
        "        if(tipo[0].lower() == \"n\" or tipo[0].lower() == \"v\" or tipo[0].lower() == \"j\"):\n",
        "            if tipo[0].lower() == \"j\":\n",
        "              x = wnLemmatizer.lemmatize(palabra,\"a\")\n",
        "            else:\n",
        "              x = wnLemmatizer.lemmatize(palabra,tipo[0].lower())\n",
        "            txt1_list.add(x)\n",
        "\n",
        "    for (palabra,tipo) in txt2_tok:\n",
        "        if(tipo[0].lower() == \"n\" or tipo[0].lower() == \"v\" or tipo[0].lower() == \"j\"):\n",
        "            if tipo[0].lower() == \"j\":\n",
        "              x = wnLemmatizer.lemmatize(palabra,\"a\")\n",
        "            else:\n",
        "              x = wnLemmatizer.lemmatize(palabra,tipo[0].lower())\n",
        "            txt2_list.add(x)\n",
        "\n",
        "    return txt1_list.intersection(txt2_list)"
      ],
      "metadata": {
        "id": "DO2VtOWwq7JQ"
      },
      "execution_count": 113,
      "outputs": []
    },
    {
      "cell_type": "code",
      "source": [
        "coincidencias(\"hello i am maias\",\"how old are you?\")"
      ],
      "metadata": {
        "colab": {
          "base_uri": "https://localhost:8080/"
        },
        "id": "kaA84wsWrGZf",
        "outputId": "4b2c6138-7813-48b0-d58f-bea0558edc8b"
      },
      "execution_count": 114,
      "outputs": [
        {
          "output_type": "execute_result",
          "data": {
            "text/plain": [
              "{'be'}"
            ]
          },
          "metadata": {},
          "execution_count": 114
        }
      ]
    },
    {
      "cell_type": "code",
      "source": [
        "coincidencias(\"i ate a lot\",\"i ate a lot\")"
      ],
      "metadata": {
        "colab": {
          "base_uri": "https://localhost:8080/"
        },
        "id": "sI1ziSTYu7HH",
        "outputId": "3a03d4ba-52eb-4553-8ce7-fe70f3427d40"
      },
      "execution_count": 115,
      "outputs": [
        {
          "output_type": "execute_result",
          "data": {
            "text/plain": [
              "{'eat', 'i', 'lot'}"
            ]
          },
          "metadata": {},
          "execution_count": 115
        }
      ]
    }
  ]
}