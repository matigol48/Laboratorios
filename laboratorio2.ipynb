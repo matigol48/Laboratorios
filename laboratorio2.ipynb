{
  "nbformat": 4,
  "nbformat_minor": 0,
  "metadata": {
    "colab": {
      "provenance": []
    },
    "kernelspec": {
      "name": "python3",
      "display_name": "Python 3"
    },
    "language_info": {
      "name": "python"
    }
  },
  "cells": [
    {
      "cell_type": "code",
      "execution_count": 3,
      "metadata": {
        "colab": {
          "base_uri": "https://localhost:8080/"
        },
        "id": "vBBaxR95K77z",
        "outputId": "cfb66587-6136-4297-dc81-7d4e91c7639b"
      },
      "outputs": [
        {
          "name": "stdout",
          "output_type": "stream",
          "text": [
            "NLTK Downloader\n",
            "---------------------------------------------------------------------------\n",
            "    d) Download   l) List    u) Update   c) Config   h) Help   q) Quit\n",
            "---------------------------------------------------------------------------\n",
            "Downloader> d\n",
            "\n",
            "Download which package (l=list; x=cancel)?\n",
            "  Identifier> book\n"
          ]
        },
        {
          "output_type": "stream",
          "name": "stderr",
          "text": [
            "    Downloading collection 'book'\n",
            "       | \n",
            "       | Downloading package abc to /root/nltk_data...\n",
            "       |   Package abc is already up-to-date!\n",
            "       | Downloading package brown to /root/nltk_data...\n",
            "       |   Package brown is already up-to-date!\n",
            "       | Downloading package chat80 to /root/nltk_data...\n",
            "       |   Package chat80 is already up-to-date!\n",
            "       | Downloading package cmudict to /root/nltk_data...\n",
            "       |   Package cmudict is already up-to-date!\n",
            "       | Downloading package conll2000 to /root/nltk_data...\n",
            "       |   Package conll2000 is already up-to-date!\n",
            "       | Downloading package conll2002 to /root/nltk_data...\n",
            "       |   Package conll2002 is already up-to-date!\n",
            "       | Downloading package dependency_treebank to /root/nltk_data...\n",
            "       |   Package dependency_treebank is already up-to-date!\n",
            "       | Downloading package genesis to /root/nltk_data...\n",
            "       |   Package genesis is already up-to-date!\n",
            "       | Downloading package gutenberg to /root/nltk_data...\n",
            "       |   Package gutenberg is already up-to-date!\n",
            "       | Downloading package ieer to /root/nltk_data...\n",
            "       |   Package ieer is already up-to-date!\n",
            "       | Downloading package inaugural to /root/nltk_data...\n",
            "       |   Package inaugural is already up-to-date!\n",
            "       | Downloading package movie_reviews to /root/nltk_data...\n",
            "       |   Package movie_reviews is already up-to-date!\n",
            "       | Downloading package nps_chat to /root/nltk_data...\n",
            "       |   Package nps_chat is already up-to-date!\n",
            "       | Downloading package names to /root/nltk_data...\n",
            "       |   Package names is already up-to-date!\n",
            "       | Downloading package ppattach to /root/nltk_data...\n",
            "       |   Package ppattach is already up-to-date!\n",
            "       | Downloading package reuters to /root/nltk_data...\n",
            "       |   Package reuters is already up-to-date!\n",
            "       | Downloading package senseval to /root/nltk_data...\n",
            "       |   Package senseval is already up-to-date!\n",
            "       | Downloading package state_union to /root/nltk_data...\n",
            "       |   Package state_union is already up-to-date!\n",
            "       | Downloading package stopwords to /root/nltk_data...\n",
            "       |   Package stopwords is already up-to-date!\n",
            "       | Downloading package swadesh to /root/nltk_data...\n",
            "       |   Package swadesh is already up-to-date!\n",
            "       | Downloading package timit to /root/nltk_data...\n",
            "       |   Package timit is already up-to-date!\n",
            "       | Downloading package treebank to /root/nltk_data...\n",
            "       |   Package treebank is already up-to-date!\n",
            "       | Downloading package toolbox to /root/nltk_data...\n",
            "       |   Package toolbox is already up-to-date!\n",
            "       | Downloading package udhr to /root/nltk_data...\n",
            "       |   Package udhr is already up-to-date!\n",
            "       | Downloading package udhr2 to /root/nltk_data...\n",
            "       |   Package udhr2 is already up-to-date!\n",
            "       | Downloading package unicode_samples to /root/nltk_data...\n",
            "       |   Package unicode_samples is already up-to-date!\n",
            "       | Downloading package webtext to /root/nltk_data...\n",
            "       |   Package webtext is already up-to-date!\n",
            "       | Downloading package wordnet to /root/nltk_data...\n",
            "       |   Package wordnet is already up-to-date!\n",
            "       | Downloading package wordnet_ic to /root/nltk_data...\n",
            "       |   Package wordnet_ic is already up-to-date!\n",
            "       | Downloading package words to /root/nltk_data...\n",
            "       |   Package words is already up-to-date!\n",
            "       | Downloading package maxent_treebank_pos_tagger to\n",
            "       |     /root/nltk_data...\n",
            "       |   Package maxent_treebank_pos_tagger is already up-to-date!\n",
            "       | Downloading package maxent_ne_chunker to /root/nltk_data...\n",
            "       |   Package maxent_ne_chunker is already up-to-date!\n",
            "       | Downloading package universal_tagset to /root/nltk_data...\n",
            "       |   Package universal_tagset is already up-to-date!\n",
            "       | Downloading package punkt to /root/nltk_data...\n",
            "       |   Package punkt is already up-to-date!\n",
            "       | Downloading package book_grammars to /root/nltk_data...\n",
            "       |   Package book_grammars is already up-to-date!\n",
            "       | Downloading package city_database to /root/nltk_data...\n",
            "       |   Package city_database is already up-to-date!\n",
            "       | Downloading package tagsets to /root/nltk_data...\n",
            "       |   Package tagsets is already up-to-date!\n",
            "       | Downloading package panlex_swadesh to /root/nltk_data...\n",
            "       |   Package panlex_swadesh is already up-to-date!\n",
            "       | Downloading package averaged_perceptron_tagger to\n",
            "       |     /root/nltk_data...\n",
            "       |   Package averaged_perceptron_tagger is already up-to-date!\n",
            "       | \n",
            "     Done downloading collection book\n"
          ]
        },
        {
          "name": "stdout",
          "output_type": "stream",
          "text": [
            "\n",
            "---------------------------------------------------------------------------\n",
            "    d) Download   l) List    u) Update   c) Config   h) Help   q) Quit\n",
            "---------------------------------------------------------------------------\n",
            "Downloader> q\n"
          ]
        },
        {
          "output_type": "execute_result",
          "data": {
            "text/plain": [
              "True"
            ]
          },
          "metadata": {},
          "execution_count": 3
        }
      ],
      "source": [
        "import nltk\n",
        "nltk.download()"
      ]
    },
    {
      "cell_type": "code",
      "source": [
        "from nltk.book import *"
      ],
      "metadata": {
        "colab": {
          "base_uri": "https://localhost:8080/"
        },
        "id": "xBL88rICLfGj",
        "outputId": "342174f3-186c-42f4-9b1a-a5549b15617f"
      },
      "execution_count": 5,
      "outputs": [
        {
          "output_type": "stream",
          "name": "stdout",
          "text": [
            "*** Introductory Examples for the NLTK Book ***\n",
            "Loading text1, ..., text9 and sent1, ..., sent9\n",
            "Type the name of the text or sentence to view it.\n",
            "Type: 'texts()' or 'sents()' to list the materials.\n",
            "text1: Moby Dick by Herman Melville 1851\n",
            "text2: Sense and Sensibility by Jane Austen 1811\n",
            "text3: The Book of Genesis\n",
            "text4: Inaugural Address Corpus\n",
            "text5: Chat Corpus\n",
            "text6: Monty Python and the Holy Grail\n",
            "text7: Wall Street Journal\n",
            "text8: Personals Corpus\n",
            "text9: The Man Who Was Thursday by G . K . Chesterton 1908\n"
          ]
        }
      ]
    },
    {
      "cell_type": "code",
      "source": [
        "nltk.help.upenn_tagset(\".*\")"
      ],
      "metadata": {
        "colab": {
          "base_uri": "https://localhost:8080/"
        },
        "id": "Ei_li3WPLlkC",
        "outputId": "11f7fcf6-8586-4407-a81f-526963caa5ab"
      },
      "execution_count": 6,
      "outputs": [
        {
          "output_type": "stream",
          "name": "stdout",
          "text": [
            "$: dollar\n",
            "    $ -$ --$ A$ C$ HK$ M$ NZ$ S$ U.S.$ US$\n",
            "'': closing quotation mark\n",
            "    ' ''\n",
            "(: opening parenthesis\n",
            "    ( [ {\n",
            "): closing parenthesis\n",
            "    ) ] }\n",
            ",: comma\n",
            "    ,\n",
            "--: dash\n",
            "    --\n",
            ".: sentence terminator\n",
            "    . ! ?\n",
            ":: colon or ellipsis\n",
            "    : ; ...\n",
            "CC: conjunction, coordinating\n",
            "    & 'n and both but either et for less minus neither nor or plus so\n",
            "    therefore times v. versus vs. whether yet\n",
            "CD: numeral, cardinal\n",
            "    mid-1890 nine-thirty forty-two one-tenth ten million 0.5 one forty-\n",
            "    seven 1987 twenty '79 zero two 78-degrees eighty-four IX '60s .025\n",
            "    fifteen 271,124 dozen quintillion DM2,000 ...\n",
            "DT: determiner\n",
            "    all an another any both del each either every half la many much nary\n",
            "    neither no some such that the them these this those\n",
            "EX: existential there\n",
            "    there\n",
            "FW: foreign word\n",
            "    gemeinschaft hund ich jeux habeas Haementeria Herr K'ang-si vous\n",
            "    lutihaw alai je jour objets salutaris fille quibusdam pas trop Monte\n",
            "    terram fiche oui corporis ...\n",
            "IN: preposition or conjunction, subordinating\n",
            "    astride among uppon whether out inside pro despite on by throughout\n",
            "    below within for towards near behind atop around if like until below\n",
            "    next into if beside ...\n",
            "JJ: adjective or numeral, ordinal\n",
            "    third ill-mannered pre-war regrettable oiled calamitous first separable\n",
            "    ectoplasmic battery-powered participatory fourth still-to-be-named\n",
            "    multilingual multi-disciplinary ...\n",
            "JJR: adjective, comparative\n",
            "    bleaker braver breezier briefer brighter brisker broader bumper busier\n",
            "    calmer cheaper choosier cleaner clearer closer colder commoner costlier\n",
            "    cozier creamier crunchier cuter ...\n",
            "JJS: adjective, superlative\n",
            "    calmest cheapest choicest classiest cleanest clearest closest commonest\n",
            "    corniest costliest crassest creepiest crudest cutest darkest deadliest\n",
            "    dearest deepest densest dinkiest ...\n",
            "LS: list item marker\n",
            "    A A. B B. C C. D E F First G H I J K One SP-44001 SP-44002 SP-44005\n",
            "    SP-44007 Second Third Three Two * a b c d first five four one six three\n",
            "    two\n",
            "MD: modal auxiliary\n",
            "    can cannot could couldn't dare may might must need ought shall should\n",
            "    shouldn't will would\n",
            "NN: noun, common, singular or mass\n",
            "    common-carrier cabbage knuckle-duster Casino afghan shed thermostat\n",
            "    investment slide humour falloff slick wind hyena override subhumanity\n",
            "    machinist ...\n",
            "NNP: noun, proper, singular\n",
            "    Motown Venneboerger Czestochwa Ranzer Conchita Trumplane Christos\n",
            "    Oceanside Escobar Kreisler Sawyer Cougar Yvette Ervin ODI Darryl CTCA\n",
            "    Shannon A.K.C. Meltex Liverpool ...\n",
            "NNPS: noun, proper, plural\n",
            "    Americans Americas Amharas Amityvilles Amusements Anarcho-Syndicalists\n",
            "    Andalusians Andes Andruses Angels Animals Anthony Antilles Antiques\n",
            "    Apache Apaches Apocrypha ...\n",
            "NNS: noun, common, plural\n",
            "    undergraduates scotches bric-a-brac products bodyguards facets coasts\n",
            "    divestitures storehouses designs clubs fragrances averages\n",
            "    subjectivists apprehensions muses factory-jobs ...\n",
            "PDT: pre-determiner\n",
            "    all both half many quite such sure this\n",
            "POS: genitive marker\n",
            "    ' 's\n",
            "PRP: pronoun, personal\n",
            "    hers herself him himself hisself it itself me myself one oneself ours\n",
            "    ourselves ownself self she thee theirs them themselves they thou thy us\n",
            "PRP$: pronoun, possessive\n",
            "    her his mine my our ours their thy your\n",
            "RB: adverb\n",
            "    occasionally unabatingly maddeningly adventurously professedly\n",
            "    stirringly prominently technologically magisterially predominately\n",
            "    swiftly fiscally pitilessly ...\n",
            "RBR: adverb, comparative\n",
            "    further gloomier grander graver greater grimmer harder harsher\n",
            "    healthier heavier higher however larger later leaner lengthier less-\n",
            "    perfectly lesser lonelier longer louder lower more ...\n",
            "RBS: adverb, superlative\n",
            "    best biggest bluntest earliest farthest first furthest hardest\n",
            "    heartiest highest largest least less most nearest second tightest worst\n",
            "RP: particle\n",
            "    aboard about across along apart around aside at away back before behind\n",
            "    by crop down ever fast for forth from go high i.e. in into just later\n",
            "    low more off on open out over per pie raising start teeth that through\n",
            "    under unto up up-pp upon whole with you\n",
            "SYM: symbol\n",
            "    % & ' '' ''. ) ). * + ,. < = > @ A[fj] U.S U.S.S.R * ** ***\n",
            "TO: \"to\" as preposition or infinitive marker\n",
            "    to\n",
            "UH: interjection\n",
            "    Goodbye Goody Gosh Wow Jeepers Jee-sus Hubba Hey Kee-reist Oops amen\n",
            "    huh howdy uh dammit whammo shucks heck anyways whodunnit honey golly\n",
            "    man baby diddle hush sonuvabitch ...\n",
            "VB: verb, base form\n",
            "    ask assemble assess assign assume atone attention avoid bake balkanize\n",
            "    bank begin behold believe bend benefit bevel beware bless boil bomb\n",
            "    boost brace break bring broil brush build ...\n",
            "VBD: verb, past tense\n",
            "    dipped pleaded swiped regummed soaked tidied convened halted registered\n",
            "    cushioned exacted snubbed strode aimed adopted belied figgered\n",
            "    speculated wore appreciated contemplated ...\n",
            "VBG: verb, present participle or gerund\n",
            "    telegraphing stirring focusing angering judging stalling lactating\n",
            "    hankerin' alleging veering capping approaching traveling besieging\n",
            "    encrypting interrupting erasing wincing ...\n",
            "VBN: verb, past participle\n",
            "    multihulled dilapidated aerosolized chaired languished panelized used\n",
            "    experimented flourished imitated reunifed factored condensed sheared\n",
            "    unsettled primed dubbed desired ...\n",
            "VBP: verb, present tense, not 3rd person singular\n",
            "    predominate wrap resort sue twist spill cure lengthen brush terminate\n",
            "    appear tend stray glisten obtain comprise detest tease attract\n",
            "    emphasize mold postpone sever return wag ...\n",
            "VBZ: verb, present tense, 3rd person singular\n",
            "    bases reconstructs marks mixes displeases seals carps weaves snatches\n",
            "    slumps stretches authorizes smolders pictures emerges stockpiles\n",
            "    seduces fizzes uses bolsters slaps speaks pleads ...\n",
            "WDT: WH-determiner\n",
            "    that what whatever which whichever\n",
            "WP: WH-pronoun\n",
            "    that what whatever whatsoever which who whom whosoever\n",
            "WP$: WH-pronoun, possessive\n",
            "    whose\n",
            "WRB: Wh-adverb\n",
            "    how however whence whenever where whereby whereever wherein whereof why\n",
            "``: opening quotation mark\n",
            "    ` ``\n"
          ]
        }
      ]
    },
    {
      "cell_type": "code",
      "source": [
        "nltk.help.brown_tagset(\"NN*\")"
      ],
      "metadata": {
        "colab": {
          "base_uri": "https://localhost:8080/"
        },
        "id": "E8jJyoYTLwni",
        "outputId": "aa5c2cf0-2b26-4882-b310-dadf526aa7a0"
      },
      "execution_count": 7,
      "outputs": [
        {
          "output_type": "stream",
          "name": "stdout",
          "text": [
            "NN: noun, singular, common\n",
            "    failure burden court fire appointment awarding compensation Mayor\n",
            "    interim committee fact effect airport management surveillance jail\n",
            "    doctor intern extern night weekend duty legislation Tax Office ...\n",
            "NN$: noun, singular, common, genitive\n",
            "    season's world's player's night's chapter's golf's football's\n",
            "    baseball's club's U.'s coach's bride's bridegroom's board's county's\n",
            "    firm's company's superintendent's mob's Navy's ...\n",
            "NN+BEZ: noun, singular, common + verb 'to be', present tense, 3rd person singular\n",
            "    water's camera's sky's kid's Pa's heat's throat's father's money's\n",
            "    undersecretary's granite's level's wife's fat's Knife's fire's name's\n",
            "    hell's leg's sun's roulette's cane's guy's kind's baseball's ...\n",
            "NN+HVD: noun, singular, common + verb 'to have', past tense\n",
            "    Pa'd\n",
            "NN+HVZ: noun, singular, common + verb 'to have', present tense, 3rd person singular\n",
            "    guy's Knife's boat's summer's rain's company's\n",
            "NN+IN: noun, singular, common + preposition\n",
            "    buncha\n",
            "NN+MD: noun, singular, common + modal auxillary\n",
            "    cowhand'd sun'll\n",
            "NN+NN: noun, singular, common, hyphenated pair\n",
            "    stomach-belly\n",
            "NNS: noun, plural, common\n",
            "    irregularities presentments thanks reports voters laws legislators\n",
            "    years areas adjustments chambers $100 bonds courts sales details raises\n",
            "    sessions members congressmen votes polls calls ...\n",
            "NNS$: noun, plural, common, genitive\n",
            "    taxpayers' children's members' States' women's cutters' motorists'\n",
            "    steelmakers' hours' Nations' lawyers' prisoners' architects' tourists'\n",
            "    Employers' secretaries' Rogues' ...\n",
            "NNS+MD: noun, plural, common + modal auxillary\n",
            "    duds'd oystchers'll\n",
            "NP: noun, singular, proper\n",
            "    Fulton Atlanta September-October Durwood Pye Ivan Allen Jr. Jan.\n",
            "    Alpharetta Grady William B. Hartsfield Pearl Williams Aug. Berry J. M.\n",
            "    Cheshire Griffin Opelika Ala. E. Pelham Snodgrass ...\n",
            "NP$: noun, singular, proper, genitive\n",
            "    Green's Landis' Smith's Carreon's Allison's Boston's Spahn's Willie's\n",
            "    Mickey's Milwaukee's Mays' Howsam's Mantle's Shaw's Wagner's Rickey's\n",
            "    Shea's Palmer's Arnold's Broglio's ...\n",
            "NP+BEZ: noun, singular, proper + verb 'to be', present tense, 3rd person singular\n",
            "    W.'s Ike's Mack's Jack's Kate's Katharine's Black's Arthur's Seaton's\n",
            "    Buckhorn's Breed's Penny's Rob's Kitty's Blackwell's Myra's Wally's\n",
            "    Lucille's Springfield's Arlene's\n",
            "NP+HVZ: noun, singular, proper + verb 'to have', present tense, 3rd person singular\n",
            "    Bill's Guardino's Celie's Skolman's Crosson's Tim's Wally's\n",
            "NP+MD: noun, singular, proper + modal auxillary\n",
            "    Gyp'll John'll\n",
            "NPS: noun, plural, proper\n",
            "    Chases Aderholds Chapelles Armisteads Lockies Carbones French Marskmen\n",
            "    Toppers Franciscans Romans Cadillacs Masons Blacks Catholics British\n",
            "    Dixiecrats Mississippians Congresses ...\n",
            "NPS$: noun, plural, proper, genitive\n",
            "    Republicans' Orioles' Birds' Yanks' Redbirds' Bucs' Yankees' Stevenses'\n",
            "    Geraghtys' Burkes' Wackers' Achaeans' Dresbachs' Russians' Democrats'\n",
            "    Gershwins' Adventists' Negroes' Catholics' ...\n",
            "NR: noun, singular, adverbial\n",
            "    Friday home Wednesday Tuesday Monday Sunday Thursday yesterday tomorrow\n",
            "    tonight West East Saturday west left east downtown north northeast\n",
            "    southeast northwest North South right ...\n",
            "NR$: noun, singular, adverbial, genitive\n",
            "    Saturday's Monday's yesterday's tonight's tomorrow's Sunday's\n",
            "    Wednesday's Friday's today's Tuesday's West's Today's South's\n",
            "NR+MD: noun, singular, adverbial + modal auxillary\n",
            "    today'll\n",
            "NRS: noun, plural, adverbial\n",
            "    Sundays Mondays Saturdays Wednesdays Souths Fridays\n"
          ]
        }
      ]
    },
    {
      "cell_type": "code",
      "source": [
        "from nltk.corpus import treebank\n",
        "treebank.fileids()"
      ],
      "metadata": {
        "colab": {
          "base_uri": "https://localhost:8080/"
        },
        "id": "TtfngzPuL02a",
        "outputId": "3db312d3-58b9-4470-9b75-754e3094de15"
      },
      "execution_count": 8,
      "outputs": [
        {
          "output_type": "execute_result",
          "data": {
            "text/plain": [
              "['wsj_0001.mrg',\n",
              " 'wsj_0002.mrg',\n",
              " 'wsj_0003.mrg',\n",
              " 'wsj_0004.mrg',\n",
              " 'wsj_0005.mrg',\n",
              " 'wsj_0006.mrg',\n",
              " 'wsj_0007.mrg',\n",
              " 'wsj_0008.mrg',\n",
              " 'wsj_0009.mrg',\n",
              " 'wsj_0010.mrg',\n",
              " 'wsj_0011.mrg',\n",
              " 'wsj_0012.mrg',\n",
              " 'wsj_0013.mrg',\n",
              " 'wsj_0014.mrg',\n",
              " 'wsj_0015.mrg',\n",
              " 'wsj_0016.mrg',\n",
              " 'wsj_0017.mrg',\n",
              " 'wsj_0018.mrg',\n",
              " 'wsj_0019.mrg',\n",
              " 'wsj_0020.mrg',\n",
              " 'wsj_0021.mrg',\n",
              " 'wsj_0022.mrg',\n",
              " 'wsj_0023.mrg',\n",
              " 'wsj_0024.mrg',\n",
              " 'wsj_0025.mrg',\n",
              " 'wsj_0026.mrg',\n",
              " 'wsj_0027.mrg',\n",
              " 'wsj_0028.mrg',\n",
              " 'wsj_0029.mrg',\n",
              " 'wsj_0030.mrg',\n",
              " 'wsj_0031.mrg',\n",
              " 'wsj_0032.mrg',\n",
              " 'wsj_0033.mrg',\n",
              " 'wsj_0034.mrg',\n",
              " 'wsj_0035.mrg',\n",
              " 'wsj_0036.mrg',\n",
              " 'wsj_0037.mrg',\n",
              " 'wsj_0038.mrg',\n",
              " 'wsj_0039.mrg',\n",
              " 'wsj_0040.mrg',\n",
              " 'wsj_0041.mrg',\n",
              " 'wsj_0042.mrg',\n",
              " 'wsj_0043.mrg',\n",
              " 'wsj_0044.mrg',\n",
              " 'wsj_0045.mrg',\n",
              " 'wsj_0046.mrg',\n",
              " 'wsj_0047.mrg',\n",
              " 'wsj_0048.mrg',\n",
              " 'wsj_0049.mrg',\n",
              " 'wsj_0050.mrg',\n",
              " 'wsj_0051.mrg',\n",
              " 'wsj_0052.mrg',\n",
              " 'wsj_0053.mrg',\n",
              " 'wsj_0054.mrg',\n",
              " 'wsj_0055.mrg',\n",
              " 'wsj_0056.mrg',\n",
              " 'wsj_0057.mrg',\n",
              " 'wsj_0058.mrg',\n",
              " 'wsj_0059.mrg',\n",
              " 'wsj_0060.mrg',\n",
              " 'wsj_0061.mrg',\n",
              " 'wsj_0062.mrg',\n",
              " 'wsj_0063.mrg',\n",
              " 'wsj_0064.mrg',\n",
              " 'wsj_0065.mrg',\n",
              " 'wsj_0066.mrg',\n",
              " 'wsj_0067.mrg',\n",
              " 'wsj_0068.mrg',\n",
              " 'wsj_0069.mrg',\n",
              " 'wsj_0070.mrg',\n",
              " 'wsj_0071.mrg',\n",
              " 'wsj_0072.mrg',\n",
              " 'wsj_0073.mrg',\n",
              " 'wsj_0074.mrg',\n",
              " 'wsj_0075.mrg',\n",
              " 'wsj_0076.mrg',\n",
              " 'wsj_0077.mrg',\n",
              " 'wsj_0078.mrg',\n",
              " 'wsj_0079.mrg',\n",
              " 'wsj_0080.mrg',\n",
              " 'wsj_0081.mrg',\n",
              " 'wsj_0082.mrg',\n",
              " 'wsj_0083.mrg',\n",
              " 'wsj_0084.mrg',\n",
              " 'wsj_0085.mrg',\n",
              " 'wsj_0086.mrg',\n",
              " 'wsj_0087.mrg',\n",
              " 'wsj_0088.mrg',\n",
              " 'wsj_0089.mrg',\n",
              " 'wsj_0090.mrg',\n",
              " 'wsj_0091.mrg',\n",
              " 'wsj_0092.mrg',\n",
              " 'wsj_0093.mrg',\n",
              " 'wsj_0094.mrg',\n",
              " 'wsj_0095.mrg',\n",
              " 'wsj_0096.mrg',\n",
              " 'wsj_0097.mrg',\n",
              " 'wsj_0098.mrg',\n",
              " 'wsj_0099.mrg',\n",
              " 'wsj_0100.mrg',\n",
              " 'wsj_0101.mrg',\n",
              " 'wsj_0102.mrg',\n",
              " 'wsj_0103.mrg',\n",
              " 'wsj_0104.mrg',\n",
              " 'wsj_0105.mrg',\n",
              " 'wsj_0106.mrg',\n",
              " 'wsj_0107.mrg',\n",
              " 'wsj_0108.mrg',\n",
              " 'wsj_0109.mrg',\n",
              " 'wsj_0110.mrg',\n",
              " 'wsj_0111.mrg',\n",
              " 'wsj_0112.mrg',\n",
              " 'wsj_0113.mrg',\n",
              " 'wsj_0114.mrg',\n",
              " 'wsj_0115.mrg',\n",
              " 'wsj_0116.mrg',\n",
              " 'wsj_0117.mrg',\n",
              " 'wsj_0118.mrg',\n",
              " 'wsj_0119.mrg',\n",
              " 'wsj_0120.mrg',\n",
              " 'wsj_0121.mrg',\n",
              " 'wsj_0122.mrg',\n",
              " 'wsj_0123.mrg',\n",
              " 'wsj_0124.mrg',\n",
              " 'wsj_0125.mrg',\n",
              " 'wsj_0126.mrg',\n",
              " 'wsj_0127.mrg',\n",
              " 'wsj_0128.mrg',\n",
              " 'wsj_0129.mrg',\n",
              " 'wsj_0130.mrg',\n",
              " 'wsj_0131.mrg',\n",
              " 'wsj_0132.mrg',\n",
              " 'wsj_0133.mrg',\n",
              " 'wsj_0134.mrg',\n",
              " 'wsj_0135.mrg',\n",
              " 'wsj_0136.mrg',\n",
              " 'wsj_0137.mrg',\n",
              " 'wsj_0138.mrg',\n",
              " 'wsj_0139.mrg',\n",
              " 'wsj_0140.mrg',\n",
              " 'wsj_0141.mrg',\n",
              " 'wsj_0142.mrg',\n",
              " 'wsj_0143.mrg',\n",
              " 'wsj_0144.mrg',\n",
              " 'wsj_0145.mrg',\n",
              " 'wsj_0146.mrg',\n",
              " 'wsj_0147.mrg',\n",
              " 'wsj_0148.mrg',\n",
              " 'wsj_0149.mrg',\n",
              " 'wsj_0150.mrg',\n",
              " 'wsj_0151.mrg',\n",
              " 'wsj_0152.mrg',\n",
              " 'wsj_0153.mrg',\n",
              " 'wsj_0154.mrg',\n",
              " 'wsj_0155.mrg',\n",
              " 'wsj_0156.mrg',\n",
              " 'wsj_0157.mrg',\n",
              " 'wsj_0158.mrg',\n",
              " 'wsj_0159.mrg',\n",
              " 'wsj_0160.mrg',\n",
              " 'wsj_0161.mrg',\n",
              " 'wsj_0162.mrg',\n",
              " 'wsj_0163.mrg',\n",
              " 'wsj_0164.mrg',\n",
              " 'wsj_0165.mrg',\n",
              " 'wsj_0166.mrg',\n",
              " 'wsj_0167.mrg',\n",
              " 'wsj_0168.mrg',\n",
              " 'wsj_0169.mrg',\n",
              " 'wsj_0170.mrg',\n",
              " 'wsj_0171.mrg',\n",
              " 'wsj_0172.mrg',\n",
              " 'wsj_0173.mrg',\n",
              " 'wsj_0174.mrg',\n",
              " 'wsj_0175.mrg',\n",
              " 'wsj_0176.mrg',\n",
              " 'wsj_0177.mrg',\n",
              " 'wsj_0178.mrg',\n",
              " 'wsj_0179.mrg',\n",
              " 'wsj_0180.mrg',\n",
              " 'wsj_0181.mrg',\n",
              " 'wsj_0182.mrg',\n",
              " 'wsj_0183.mrg',\n",
              " 'wsj_0184.mrg',\n",
              " 'wsj_0185.mrg',\n",
              " 'wsj_0186.mrg',\n",
              " 'wsj_0187.mrg',\n",
              " 'wsj_0188.mrg',\n",
              " 'wsj_0189.mrg',\n",
              " 'wsj_0190.mrg',\n",
              " 'wsj_0191.mrg',\n",
              " 'wsj_0192.mrg',\n",
              " 'wsj_0193.mrg',\n",
              " 'wsj_0194.mrg',\n",
              " 'wsj_0195.mrg',\n",
              " 'wsj_0196.mrg',\n",
              " 'wsj_0197.mrg',\n",
              " 'wsj_0198.mrg',\n",
              " 'wsj_0199.mrg']"
            ]
          },
          "metadata": {},
          "execution_count": 8
        }
      ]
    },
    {
      "cell_type": "code",
      "source": [
        " treebank.tagged_words(\"wsj_0001.mrg\")[0:]"
      ],
      "metadata": {
        "colab": {
          "base_uri": "https://localhost:8080/"
        },
        "id": "SlQ-klvPMFfC",
        "outputId": "d53d9ef7-0e93-4a56-b8dd-aa70473f5f67"
      },
      "execution_count": 9,
      "outputs": [
        {
          "output_type": "execute_result",
          "data": {
            "text/plain": [
              "[('Pierre', 'NNP'),\n",
              " ('Vinken', 'NNP'),\n",
              " (',', ','),\n",
              " ('61', 'CD'),\n",
              " ('years', 'NNS'),\n",
              " ('old', 'JJ'),\n",
              " (',', ','),\n",
              " ('will', 'MD'),\n",
              " ('join', 'VB'),\n",
              " ('the', 'DT'),\n",
              " ('board', 'NN'),\n",
              " ('as', 'IN'),\n",
              " ('a', 'DT'),\n",
              " ('nonexecutive', 'JJ'),\n",
              " ('director', 'NN'),\n",
              " ('Nov.', 'NNP'),\n",
              " ('29', 'CD'),\n",
              " ('.', '.'),\n",
              " ('Mr.', 'NNP'),\n",
              " ('Vinken', 'NNP'),\n",
              " ('is', 'VBZ'),\n",
              " ('chairman', 'NN'),\n",
              " ('of', 'IN'),\n",
              " ('Elsevier', 'NNP'),\n",
              " ('N.V.', 'NNP'),\n",
              " (',', ','),\n",
              " ('the', 'DT'),\n",
              " ('Dutch', 'NNP'),\n",
              " ('publishing', 'VBG'),\n",
              " ('group', 'NN'),\n",
              " ('.', '.')]"
            ]
          },
          "metadata": {},
          "execution_count": 9
        }
      ]
    },
    {
      "cell_type": "code",
      "source": [
        "x100 = treebank.tagged_words(\"wsj_0003.mrg\")[0:100]\n",
        "for p in x100:\n",
        "  print (p)"
      ],
      "metadata": {
        "colab": {
          "base_uri": "https://localhost:8080/"
        },
        "id": "K56YWRNmMXVC",
        "outputId": "02711658-bf14-47b1-ffd3-eca1cd104d52"
      },
      "execution_count": 16,
      "outputs": [
        {
          "output_type": "stream",
          "name": "stdout",
          "text": [
            "('A', 'DT')\n",
            "('form', 'NN')\n",
            "('of', 'IN')\n",
            "('asbestos', 'NN')\n",
            "('once', 'RB')\n",
            "('used', 'VBN')\n",
            "('*', '-NONE-')\n",
            "('*', '-NONE-')\n",
            "('to', 'TO')\n",
            "('make', 'VB')\n",
            "('Kent', 'NNP')\n",
            "('cigarette', 'NN')\n",
            "('filters', 'NNS')\n",
            "('has', 'VBZ')\n",
            "('caused', 'VBN')\n",
            "('a', 'DT')\n",
            "('high', 'JJ')\n",
            "('percentage', 'NN')\n",
            "('of', 'IN')\n",
            "('cancer', 'NN')\n",
            "('deaths', 'NNS')\n",
            "('among', 'IN')\n",
            "('a', 'DT')\n",
            "('group', 'NN')\n",
            "('of', 'IN')\n",
            "('workers', 'NNS')\n",
            "('exposed', 'VBN')\n",
            "('*', '-NONE-')\n",
            "('to', 'TO')\n",
            "('it', 'PRP')\n",
            "('more', 'RBR')\n",
            "('than', 'IN')\n",
            "('30', 'CD')\n",
            "('years', 'NNS')\n",
            "('ago', 'IN')\n",
            "(',', ',')\n",
            "('researchers', 'NNS')\n",
            "('reported', 'VBD')\n",
            "('0', '-NONE-')\n",
            "('*T*-1', '-NONE-')\n",
            "('.', '.')\n",
            "('The', 'DT')\n",
            "('asbestos', 'NN')\n",
            "('fiber', 'NN')\n",
            "(',', ',')\n",
            "('crocidolite', 'NN')\n",
            "(',', ',')\n",
            "('is', 'VBZ')\n",
            "('unusually', 'RB')\n",
            "('resilient', 'JJ')\n",
            "('once', 'IN')\n",
            "('it', 'PRP')\n",
            "('enters', 'VBZ')\n",
            "('the', 'DT')\n",
            "('lungs', 'NNS')\n",
            "(',', ',')\n",
            "('with', 'IN')\n",
            "('even', 'RB')\n",
            "('brief', 'JJ')\n",
            "('exposures', 'NNS')\n",
            "('to', 'TO')\n",
            "('it', 'PRP')\n",
            "('causing', 'VBG')\n",
            "('symptoms', 'NNS')\n",
            "('that', 'WDT')\n",
            "('*T*-1', '-NONE-')\n",
            "('show', 'VBP')\n",
            "('up', 'RP')\n",
            "('decades', 'NNS')\n",
            "('later', 'JJ')\n",
            "(',', ',')\n",
            "('researchers', 'NNS')\n",
            "('said', 'VBD')\n",
            "('0', '-NONE-')\n",
            "('*T*-2', '-NONE-')\n",
            "('.', '.')\n",
            "('Lorillard', 'NNP')\n",
            "('Inc.', 'NNP')\n",
            "(',', ',')\n",
            "('the', 'DT')\n",
            "('unit', 'NN')\n",
            "('of', 'IN')\n",
            "('New', 'JJ')\n",
            "('York-based', 'JJ')\n",
            "('Loews', 'NNP')\n",
            "('Corp.', 'NNP')\n",
            "('that', 'WDT')\n",
            "('*T*-2', '-NONE-')\n",
            "('makes', 'VBZ')\n",
            "('Kent', 'NNP')\n",
            "('cigarettes', 'NNS')\n",
            "(',', ',')\n",
            "('stopped', 'VBD')\n",
            "('using', 'VBG')\n",
            "('crocidolite', 'NN')\n",
            "('in', 'IN')\n",
            "('its', 'PRP$')\n",
            "('Micronite', 'NN')\n",
            "('cigarette', 'NN')\n",
            "('filters', 'NNS')\n"
          ]
        }
      ]
    },
    {
      "cell_type": "code",
      "source": [
        "race1 = nltk.tag.str2tuple('race/NN')\n",
        "race2 = nltk.tag.str2tuple('race/VB')"
      ],
      "metadata": {
        "id": "Db53W12NMnyh"
      },
      "execution_count": 18,
      "outputs": []
    },
    {
      "cell_type": "code",
      "source": [
        "from nltk.corpus import brown\n",
        "len(brown.tagged_words())"
      ],
      "metadata": {
        "colab": {
          "base_uri": "https://localhost:8080/"
        },
        "id": "0GKay7_EM18x",
        "outputId": "09b9e6af-d542-4a3b-d489-0f2ced43e7b2"
      },
      "execution_count": 19,
      "outputs": [
        {
          "output_type": "execute_result",
          "data": {
            "text/plain": [
              "1161192"
            ]
          },
          "metadata": {},
          "execution_count": 19
        }
      ]
    },
    {
      "cell_type": "code",
      "source": [
        "brown.tagged_words().count(race1)"
      ],
      "metadata": {
        "colab": {
          "base_uri": "https://localhost:8080/"
        },
        "id": "w26ICzByNGLx",
        "outputId": "701cd1f0-1c65-4ca6-eec5-680ba3c896ad"
      },
      "execution_count": 22,
      "outputs": [
        {
          "output_type": "execute_result",
          "data": {
            "text/plain": [
              "94"
            ]
          },
          "metadata": {},
          "execution_count": 22
        }
      ]
    },
    {
      "cell_type": "code",
      "source": [
        "brown.tagged_words().count(race2)"
      ],
      "metadata": {
        "colab": {
          "base_uri": "https://localhost:8080/"
        },
        "id": "QSlTjI4aNMFx",
        "outputId": "628a9614-d543-45c9-8570-f7f4b22f6d51"
      },
      "execution_count": 23,
      "outputs": [
        {
          "output_type": "execute_result",
          "data": {
            "text/plain": [
              "4"
            ]
          },
          "metadata": {},
          "execution_count": 23
        }
      ]
    },
    {
      "cell_type": "code",
      "source": [
        "from nltk.corpus import brown\n",
        "unigram_tagger = nltk.tag.UnigramTagger(brown.tagged_sents(categories='news')[:5000])"
      ],
      "metadata": {
        "id": "FudPmZaENTPp"
      },
      "execution_count": 34,
      "outputs": []
    },
    {
      "cell_type": "code",
      "source": [
        "from nltk import word_tokenize\n",
        "S = \"The Secretariat is expected to race tomorrow.\"\n",
        "S_tok = word_tokenize(S)\n",
        "unigram_tagger.tag(S_tok)"
      ],
      "metadata": {
        "colab": {
          "base_uri": "https://localhost:8080/"
        },
        "id": "S7I7JfBKNlp6",
        "outputId": "79678a3a-d73a-42fd-e937-90f14fa79766"
      },
      "execution_count": 26,
      "outputs": [
        {
          "output_type": "execute_result",
          "data": {
            "text/plain": [
              "[('The', 'AT'),\n",
              " ('Secretariat', 'NN-TL'),\n",
              " ('is', 'BEZ'),\n",
              " ('expected', 'VBN'),\n",
              " ('to', 'TO'),\n",
              " ('race', 'NN'),\n",
              " ('tomorrow', 'NR'),\n",
              " ('.', '.')]"
            ]
          },
          "metadata": {},
          "execution_count": 26
        }
      ]
    },
    {
      "cell_type": "code",
      "source": [
        "hmm_tagger = nltk.hmm.HiddenMarkovModelTrainer().train_supervised(brown.tagged_sents(categories=\"news\")[:5000])\n",
        "hmm_tagger.tag(S_tok)"
      ],
      "metadata": {
        "colab": {
          "base_uri": "https://localhost:8080/"
        },
        "id": "e7PBCOuuN5s5",
        "outputId": "485ecf02-0850-4e4b-b216-190b923e403e"
      },
      "execution_count": 27,
      "outputs": [
        {
          "output_type": "execute_result",
          "data": {
            "text/plain": [
              "[('The', 'AT'),\n",
              " ('Secretariat', 'NN-TL'),\n",
              " ('is', 'BEZ'),\n",
              " ('expected', 'VBN'),\n",
              " ('to', 'TO'),\n",
              " ('race', 'VB'),\n",
              " ('tomorrow', 'NR'),\n",
              " ('.', '.')]"
            ]
          },
          "metadata": {},
          "execution_count": 27
        }
      ]
    },
    {
      "cell_type": "code",
      "source": [
        "texto = \"Juvenile Court to Try Shooting Defendant\"\n",
        "texto_tok = word_tokenize(texto)\n",
        "unigram_tagger.tag(texto_tok)"
      ],
      "metadata": {
        "colab": {
          "base_uri": "https://localhost:8080/"
        },
        "id": "dKvVB5-dOPsZ",
        "outputId": "56ae4345-12eb-40d3-b2d6-2470a6e04d01"
      },
      "execution_count": 37,
      "outputs": [
        {
          "output_type": "execute_result",
          "data": {
            "text/plain": [
              "[('Juvenile', 'JJ-TL'),\n",
              " ('Court', 'NN-TL'),\n",
              " ('to', 'TO'),\n",
              " ('Try', None),\n",
              " ('Shooting', None),\n",
              " ('Defendant', None)]"
            ]
          },
          "metadata": {},
          "execution_count": 37
        }
      ]
    },
    {
      "cell_type": "code",
      "source": [
        "hmm_tagger.tag(texto_tok)"
      ],
      "metadata": {
        "colab": {
          "base_uri": "https://localhost:8080/"
        },
        "id": "abapliotPRtw",
        "outputId": "e4d20cc7-ae26-4ca1-907b-304f5f6a9fb8"
      },
      "execution_count": 38,
      "outputs": [
        {
          "output_type": "execute_result",
          "data": {
            "text/plain": [
              "[('Juvenile', 'JJ-TL'),\n",
              " ('Court', 'NN-TL'),\n",
              " ('to', 'IN'),\n",
              " ('Try', 'AT'),\n",
              " ('Shooting', 'AT'),\n",
              " ('Defendant', 'AT')]"
            ]
          },
          "metadata": {},
          "execution_count": 38
        }
      ]
    }
  ]
}